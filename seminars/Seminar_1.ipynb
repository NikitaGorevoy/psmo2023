{
  "cells": [
    {
      "cell_type": "code",
      "execution_count": null,
      "metadata": {
        "id": "DK4HSLRvwJER"
      },
      "outputs": [],
      "source": [
        "import pandas as pd\n",
        "import numpy as np\n",
        "\n",
        "import matplotlib.pyplot as plt\n",
        "%matplotlib inline\n",
        "\n",
        "from scipy.stats import norm\n",
        "from scipy.stats import beta"
      ]
    },
    {
      "cell_type": "code",
      "source": [
        "from google.colab import drive\n",
        "drive.mount('/content/drive')"
      ],
      "metadata": {
        "id": "tssF-XnCL70Y",
        "colab": {
          "base_uri": "https://localhost:8080/"
        },
        "outputId": "10b6c965-5587-43c6-cbf3-c3b32b2db77b"
      },
      "execution_count": null,
      "outputs": [
        {
          "output_type": "stream",
          "name": "stdout",
          "text": [
            "Mounted at /content/drive\n"
          ]
        }
      ]
    },
    {
      "cell_type": "markdown",
      "metadata": {
        "id": "LyHgU2jBwJEV"
      },
      "source": [
        "# Метод максимального правдоподобия (Maximum Likelihood Estimation)"
      ]
    },
    {
      "cell_type": "markdown",
      "metadata": {
        "id": "M_6qJhcKwJEX"
      },
      "source": [
        "## Мотивационный пример"
      ]
    },
    {
      "cell_type": "markdown",
      "metadata": {
        "id": "7trNtK0dwJEX"
      },
      "source": [
        "**Дано**: выборка людей и их рост $\\{\\hat{X}_1, ..., \\hat{X}_n\\}$\n",
        "\n",
        "**Модель**: рост распределен нормально $X \\sim \\mathcal{N}(\\mu, \\sigma^2)$\n",
        "\n",
        "**Задача**: оценить параметры $\\mu, \\sigma^2$"
      ]
    },
    {
      "cell_type": "markdown",
      "source": [
        "### Ответ"
      ],
      "metadata": {
        "id": "Za7ijEuswOaF"
      }
    },
    {
      "cell_type": "markdown",
      "source": [
        "$\\hat{\\mu} = \\bar{X}, \\hat{\\sigma}^2 = S_n^2$"
      ],
      "metadata": {
        "id": "-3u2oZ9wwRzS"
      }
    },
    {
      "cell_type": "markdown",
      "metadata": {
        "id": "Vlz7fuNowJEY"
      },
      "source": [
        "### Проверка на данных"
      ]
    },
    {
      "cell_type": "code",
      "execution_count": null,
      "metadata": {
        "colab": {
          "base_uri": "https://localhost:8080/",
          "height": 130
        },
        "id": "RKZcFg4dwJEY",
        "outputId": "d5dcad6d-bb17-4bc7-f999-b1392bd8e746"
      },
      "outputs": [
        {
          "output_type": "execute_result",
          "data": {
            "text/plain": [
              "  Gender      Height      Weight\n",
              "0   Male  187.571423  109.702296\n",
              "1   Male  174.706036   73.610192"
            ],
            "text/html": [
              "\n",
              "  <div id=\"df-5c7a75f2-d735-406c-8138-667685e37d17\" class=\"colab-df-container\">\n",
              "    <div>\n",
              "<style scoped>\n",
              "    .dataframe tbody tr th:only-of-type {\n",
              "        vertical-align: middle;\n",
              "    }\n",
              "\n",
              "    .dataframe tbody tr th {\n",
              "        vertical-align: top;\n",
              "    }\n",
              "\n",
              "    .dataframe thead th {\n",
              "        text-align: right;\n",
              "    }\n",
              "</style>\n",
              "<table border=\"1\" class=\"dataframe\">\n",
              "  <thead>\n",
              "    <tr style=\"text-align: right;\">\n",
              "      <th></th>\n",
              "      <th>Gender</th>\n",
              "      <th>Height</th>\n",
              "      <th>Weight</th>\n",
              "    </tr>\n",
              "  </thead>\n",
              "  <tbody>\n",
              "    <tr>\n",
              "      <th>0</th>\n",
              "      <td>Male</td>\n",
              "      <td>187.571423</td>\n",
              "      <td>109.702296</td>\n",
              "    </tr>\n",
              "    <tr>\n",
              "      <th>1</th>\n",
              "      <td>Male</td>\n",
              "      <td>174.706036</td>\n",
              "      <td>73.610192</td>\n",
              "    </tr>\n",
              "  </tbody>\n",
              "</table>\n",
              "</div>\n",
              "    <div class=\"colab-df-buttons\">\n",
              "\n",
              "  <div class=\"colab-df-container\">\n",
              "    <button class=\"colab-df-convert\" onclick=\"convertToInteractive('df-5c7a75f2-d735-406c-8138-667685e37d17')\"\n",
              "            title=\"Convert this dataframe to an interactive table.\"\n",
              "            style=\"display:none;\">\n",
              "\n",
              "  <svg xmlns=\"http://www.w3.org/2000/svg\" height=\"24px\" viewBox=\"0 -960 960 960\">\n",
              "    <path d=\"M120-120v-720h720v720H120Zm60-500h600v-160H180v160Zm220 220h160v-160H400v160Zm0 220h160v-160H400v160ZM180-400h160v-160H180v160Zm440 0h160v-160H620v160ZM180-180h160v-160H180v160Zm440 0h160v-160H620v160Z\"/>\n",
              "  </svg>\n",
              "    </button>\n",
              "\n",
              "  <style>\n",
              "    .colab-df-container {\n",
              "      display:flex;\n",
              "      gap: 12px;\n",
              "    }\n",
              "\n",
              "    .colab-df-convert {\n",
              "      background-color: #E8F0FE;\n",
              "      border: none;\n",
              "      border-radius: 50%;\n",
              "      cursor: pointer;\n",
              "      display: none;\n",
              "      fill: #1967D2;\n",
              "      height: 32px;\n",
              "      padding: 0 0 0 0;\n",
              "      width: 32px;\n",
              "    }\n",
              "\n",
              "    .colab-df-convert:hover {\n",
              "      background-color: #E2EBFA;\n",
              "      box-shadow: 0px 1px 2px rgba(60, 64, 67, 0.3), 0px 1px 3px 1px rgba(60, 64, 67, 0.15);\n",
              "      fill: #174EA6;\n",
              "    }\n",
              "\n",
              "    .colab-df-buttons div {\n",
              "      margin-bottom: 4px;\n",
              "    }\n",
              "\n",
              "    [theme=dark] .colab-df-convert {\n",
              "      background-color: #3B4455;\n",
              "      fill: #D2E3FC;\n",
              "    }\n",
              "\n",
              "    [theme=dark] .colab-df-convert:hover {\n",
              "      background-color: #434B5C;\n",
              "      box-shadow: 0px 1px 3px 1px rgba(0, 0, 0, 0.15);\n",
              "      filter: drop-shadow(0px 1px 2px rgba(0, 0, 0, 0.3));\n",
              "      fill: #FFFFFF;\n",
              "    }\n",
              "  </style>\n",
              "\n",
              "    <script>\n",
              "      const buttonEl =\n",
              "        document.querySelector('#df-5c7a75f2-d735-406c-8138-667685e37d17 button.colab-df-convert');\n",
              "      buttonEl.style.display =\n",
              "        google.colab.kernel.accessAllowed ? 'block' : 'none';\n",
              "\n",
              "      async function convertToInteractive(key) {\n",
              "        const element = document.querySelector('#df-5c7a75f2-d735-406c-8138-667685e37d17');\n",
              "        const dataTable =\n",
              "          await google.colab.kernel.invokeFunction('convertToInteractive',\n",
              "                                                    [key], {});\n",
              "        if (!dataTable) return;\n",
              "\n",
              "        const docLinkHtml = 'Like what you see? Visit the ' +\n",
              "          '<a target=\"_blank\" href=https://colab.research.google.com/notebooks/data_table.ipynb>data table notebook</a>'\n",
              "          + ' to learn more about interactive tables.';\n",
              "        element.innerHTML = '';\n",
              "        dataTable['output_type'] = 'display_data';\n",
              "        await google.colab.output.renderOutput(dataTable, element);\n",
              "        const docLink = document.createElement('div');\n",
              "        docLink.innerHTML = docLinkHtml;\n",
              "        element.appendChild(docLink);\n",
              "      }\n",
              "    </script>\n",
              "  </div>\n",
              "\n",
              "\n",
              "<div id=\"df-238ef41b-2cf8-431c-a6cb-d61e547e7d2e\">\n",
              "  <button class=\"colab-df-quickchart\" onclick=\"quickchart('df-238ef41b-2cf8-431c-a6cb-d61e547e7d2e')\"\n",
              "            title=\"Suggest charts.\"\n",
              "            style=\"display:none;\">\n",
              "\n",
              "<svg xmlns=\"http://www.w3.org/2000/svg\" height=\"24px\"viewBox=\"0 0 24 24\"\n",
              "     width=\"24px\">\n",
              "    <g>\n",
              "        <path d=\"M19 3H5c-1.1 0-2 .9-2 2v14c0 1.1.9 2 2 2h14c1.1 0 2-.9 2-2V5c0-1.1-.9-2-2-2zM9 17H7v-7h2v7zm4 0h-2V7h2v10zm4 0h-2v-4h2v4z\"/>\n",
              "    </g>\n",
              "</svg>\n",
              "  </button>\n",
              "\n",
              "<style>\n",
              "  .colab-df-quickchart {\n",
              "      --bg-color: #E8F0FE;\n",
              "      --fill-color: #1967D2;\n",
              "      --hover-bg-color: #E2EBFA;\n",
              "      --hover-fill-color: #174EA6;\n",
              "      --disabled-fill-color: #AAA;\n",
              "      --disabled-bg-color: #DDD;\n",
              "  }\n",
              "\n",
              "  [theme=dark] .colab-df-quickchart {\n",
              "      --bg-color: #3B4455;\n",
              "      --fill-color: #D2E3FC;\n",
              "      --hover-bg-color: #434B5C;\n",
              "      --hover-fill-color: #FFFFFF;\n",
              "      --disabled-bg-color: #3B4455;\n",
              "      --disabled-fill-color: #666;\n",
              "  }\n",
              "\n",
              "  .colab-df-quickchart {\n",
              "    background-color: var(--bg-color);\n",
              "    border: none;\n",
              "    border-radius: 50%;\n",
              "    cursor: pointer;\n",
              "    display: none;\n",
              "    fill: var(--fill-color);\n",
              "    height: 32px;\n",
              "    padding: 0;\n",
              "    width: 32px;\n",
              "  }\n",
              "\n",
              "  .colab-df-quickchart:hover {\n",
              "    background-color: var(--hover-bg-color);\n",
              "    box-shadow: 0 1px 2px rgba(60, 64, 67, 0.3), 0 1px 3px 1px rgba(60, 64, 67, 0.15);\n",
              "    fill: var(--button-hover-fill-color);\n",
              "  }\n",
              "\n",
              "  .colab-df-quickchart-complete:disabled,\n",
              "  .colab-df-quickchart-complete:disabled:hover {\n",
              "    background-color: var(--disabled-bg-color);\n",
              "    fill: var(--disabled-fill-color);\n",
              "    box-shadow: none;\n",
              "  }\n",
              "\n",
              "  .colab-df-spinner {\n",
              "    border: 2px solid var(--fill-color);\n",
              "    border-color: transparent;\n",
              "    border-bottom-color: var(--fill-color);\n",
              "    animation:\n",
              "      spin 1s steps(1) infinite;\n",
              "  }\n",
              "\n",
              "  @keyframes spin {\n",
              "    0% {\n",
              "      border-color: transparent;\n",
              "      border-bottom-color: var(--fill-color);\n",
              "      border-left-color: var(--fill-color);\n",
              "    }\n",
              "    20% {\n",
              "      border-color: transparent;\n",
              "      border-left-color: var(--fill-color);\n",
              "      border-top-color: var(--fill-color);\n",
              "    }\n",
              "    30% {\n",
              "      border-color: transparent;\n",
              "      border-left-color: var(--fill-color);\n",
              "      border-top-color: var(--fill-color);\n",
              "      border-right-color: var(--fill-color);\n",
              "    }\n",
              "    40% {\n",
              "      border-color: transparent;\n",
              "      border-right-color: var(--fill-color);\n",
              "      border-top-color: var(--fill-color);\n",
              "    }\n",
              "    60% {\n",
              "      border-color: transparent;\n",
              "      border-right-color: var(--fill-color);\n",
              "    }\n",
              "    80% {\n",
              "      border-color: transparent;\n",
              "      border-right-color: var(--fill-color);\n",
              "      border-bottom-color: var(--fill-color);\n",
              "    }\n",
              "    90% {\n",
              "      border-color: transparent;\n",
              "      border-bottom-color: var(--fill-color);\n",
              "    }\n",
              "  }\n",
              "</style>\n",
              "\n",
              "  <script>\n",
              "    async function quickchart(key) {\n",
              "      const quickchartButtonEl =\n",
              "        document.querySelector('#' + key + ' button');\n",
              "      quickchartButtonEl.disabled = true;  // To prevent multiple clicks.\n",
              "      quickchartButtonEl.classList.add('colab-df-spinner');\n",
              "      try {\n",
              "        const charts = await google.colab.kernel.invokeFunction(\n",
              "            'suggestCharts', [key], {});\n",
              "      } catch (error) {\n",
              "        console.error('Error during call to suggestCharts:', error);\n",
              "      }\n",
              "      quickchartButtonEl.classList.remove('colab-df-spinner');\n",
              "      quickchartButtonEl.classList.add('colab-df-quickchart-complete');\n",
              "    }\n",
              "    (() => {\n",
              "      let quickchartButtonEl =\n",
              "        document.querySelector('#df-238ef41b-2cf8-431c-a6cb-d61e547e7d2e button');\n",
              "      quickchartButtonEl.style.display =\n",
              "        google.colab.kernel.accessAllowed ? 'block' : 'none';\n",
              "    })();\n",
              "  </script>\n",
              "</div>\n",
              "    </div>\n",
              "  </div>\n"
            ]
          },
          "metadata": {},
          "execution_count": 3
        }
      ],
      "source": [
        "# load data and convert to metric system\n",
        "\n",
        "file_id = '1liVlwuNZqYc71SufYH1HPy754EklRR-H'\n",
        "path = 'https://drive.google.com/uc?id={}'.format(file_id)\n",
        "\n",
        "# path = 'datasets/weight-height.csv'\n",
        "\n",
        "data = pd.read_csv(path)\n",
        "data['Height'] *= 2.54\n",
        "data['Weight'] /= 2.205\n",
        "data.head(2)"
      ]
    },
    {
      "cell_type": "code",
      "execution_count": null,
      "metadata": {
        "id": "Vd0GaSYXwJEZ"
      },
      "outputs": [],
      "source": [
        "# split data into male and female datasets\n",
        "\n",
        "data_male = data[data['Gender'] == 'Male'].copy()\n",
        "data_female = data[data['Gender'] == 'Female'].copy()"
      ]
    },
    {
      "cell_type": "code",
      "execution_count": null,
      "metadata": {
        "colab": {
          "base_uri": "https://localhost:8080/"
        },
        "id": "hHaZ4WNfwJEZ",
        "outputId": "3bb6d615-71dd-4ce6-9cc4-3b78eca65b09"
      },
      "outputs": [
        {
          "output_type": "stream",
          "name": "stdout",
          "text": [
            "Male height statistics \n",
            " mean    175.326919\n",
            "std       7.272940\n",
            "Name: Height, dtype: float64\n",
            "\n",
            "Female height statistics \n",
            " mean    161.820285\n",
            "std       6.848561\n",
            "Name: Height, dtype: float64\n"
          ]
        }
      ],
      "source": [
        "# find mean and std of male and female height dataset\n",
        "\n",
        "print('Male height statistics \\n', data_male.describe()['Height'][['mean', 'std']])\n",
        "\n",
        "print('\\nFemale height statistics \\n', data_female.describe()['Height'][['mean', 'std']])"
      ]
    },
    {
      "cell_type": "code",
      "execution_count": null,
      "metadata": {
        "colab": {
          "base_uri": "https://localhost:8080/",
          "height": 470
        },
        "id": "mtO2tbsSwJEZ",
        "outputId": "2459d1b3-729c-49ce-d296-9202c5d0e4fc"
      },
      "outputs": [
        {
          "output_type": "display_data",
          "data": {
            "text/plain": [
              "<Figure size 1000x500 with 4 Axes>"
            ],
            "image/png": "[encoded data removed]"
          },
          "metadata": {}
        }
      ],
      "source": [
        "# plot histograms of height datasets\n",
        "\n",
        "fig, axes = plt.subplots(2,1, figsize=(10,5))\n",
        "\n",
        "axes[0].hist(data_male['Height'], label='male height data', bins=100, color='blue', range=[130, 210])\n",
        "axes[1].hist(data_female['Height'], label='female height data', bins=100, color='red', range=[130, 210])\n",
        "\n",
        "axes[0].legend(loc=2, fontsize=10)\n",
        "axes[1].legend(loc=2, fontsize=10)\n",
        "\n",
        "# plot pdfs of normal distribution with optimal mean and std\n",
        "\n",
        "axes_twinx = [axes[0].twinx(), axes[1].twinx()]\n",
        "\n",
        "x_axis = np.arange(130, 210, 1)\n",
        "\n",
        "axes_twinx[0].plot(x_axis, norm.pdf(x_axis, data_male.describe()['Height']['mean'], data_male.describe()['Height']['std']), label='male height normal distribution', color='blue')\n",
        "axes_twinx[1].plot(x_axis, norm.pdf(x_axis, data_female.describe()['Height']['mean'], data_female.describe()['Height']['std']), label='female height normal distribution', color='red')\n",
        "\n",
        "axes_twinx[0].legend(loc=1, fontsize=10)\n",
        "axes_twinx[1].legend(loc=1, fontsize=10)\n",
        "\n",
        "plt.show()"
      ]
    },
    {
      "cell_type": "markdown",
      "metadata": {
        "id": "ka6i3b5awJEa"
      },
      "source": [
        "## Определения"
      ]
    },
    {
      "cell_type": "markdown",
      "metadata": {
        "id": "1Q8WT66gwJEa"
      },
      "source": [
        "Случайные величины $X_1, ..., X_n \\sim p_{\\theta}(x_1, ..., x_n) $\n",
        "\n",
        "Выборка $\\{ \\hat{X}_1, ..., \\hat{X}_n \\}$, где $\\hat{X}_i$ - реализация случайной величины $X_i$\n",
        "\n",
        "Правдоподобие $L(\\theta) = p_{\\theta}(\\hat{X}_1, ..., \\hat{X}_n)$\n",
        "\n",
        "Лог-правдоподобие $l(\\theta) = \\ln p_{\\theta}(\\hat{X}_1, ..., \\hat{X}_n)$\n",
        "\n",
        "ММП-оценка параметра $\\hat{\\theta} = \\arg \\max \\limits_{\\theta} L(\\theta) = \\arg \\max \\limits_{\\theta} l(\\theta)$"
      ]
    },
    {
      "cell_type": "markdown",
      "metadata": {
        "id": "Lb8FN7NvwJEa"
      },
      "source": [
        "## Аналитический вывод ММП-параметров для модели независимых наблюдений"
      ]
    },
    {
      "cell_type": "markdown",
      "source": [
        "### Модель"
      ],
      "metadata": {
        "id": "GL_0XQlcwsAX"
      }
    },
    {
      "cell_type": "markdown",
      "source": [
        "$X_i \\overset{iid}{\\sim} \\mathcal{N}(\\mu, \\sigma^2)$"
      ],
      "metadata": {
        "id": "5ZmLZKgqwuw7"
      }
    },
    {
      "cell_type": "markdown",
      "source": [
        "### Параметры"
      ],
      "metadata": {
        "id": "BiaVXUtfwvdz"
      }
    },
    {
      "cell_type": "markdown",
      "source": [
        "$\\theta = (\\mu, \\sigma^2)$"
      ],
      "metadata": {
        "id": "hN2th277wxt_"
      }
    },
    {
      "cell_type": "markdown",
      "source": [
        "### Выборка"
      ],
      "metadata": {
        "id": "NiTQ-1e9xANn"
      }
    },
    {
      "cell_type": "markdown",
      "source": [
        "$\\{\\hat{X}_i\\}_{i=1}^{n}$, где $\\hat{X}_i$ - реализация случайной величины $X_i$"
      ],
      "metadata": {
        "id": "lGc_G14xxBzx"
      }
    },
    {
      "cell_type": "markdown",
      "source": [
        "### Правдоподобие"
      ],
      "metadata": {
        "id": "owouk4gGwz3f"
      }
    },
    {
      "cell_type": "markdown",
      "source": [
        "$L(\\theta) = p_{\\theta}(\\hat{X}_1, ..., \\hat{X}_n) = \\prod \\limits_{i=1}^{n} \\mathcal{N}(\\hat{X}_i ; \\mu, \\sigma^2) = \\prod \\limits_{i=1}^{n} \\frac{1}{\\sqrt{2 \\pi \\sigma^2 }} \\exp \\bigl[ - \\frac{(\\hat{X}_i - \\mu)^2}{2 \\sigma^2}\\bigr]$\n",
        "\n",
        "$l(\\theta) = \\sum \\limits_{i=1}^{n} \\ln \\mathcal{N}(\\hat{X}_i ; \\mu, \\sigma^2)\n",
        "= - \\frac{n}{2} \\ln (2 \\pi \\sigma^2) - \\sum \\limits_{i=1}^n \\frac{(\\hat{X}_i - \\mu)^2}{2 \\sigma^2}$"
      ],
      "metadata": {
        "id": "mV1xLcuIw22O"
      }
    },
    {
      "cell_type": "markdown",
      "source": [
        "### ММП-оценки"
      ],
      "metadata": {
        "id": "YVTqlZlpw3AV"
      }
    },
    {
      "cell_type": "markdown",
      "source": [
        "$l'_{\\mu} = - \\sum \\limits_{i=1}^n \\frac{- 2 (\\hat{X}_i - \\mu)}{2 \\sigma^2} = 0$\n",
        "\n",
        "$\\hat{\\mu}_{MLE} = \\frac{1}{n} \\sum \\limits_{i=1}^n \\hat{X}_i$\n",
        "\n",
        "\n",
        "$l'_{\\sigma^2} = - \\frac{n}{2} \\frac{1}{\\sigma^2}  + \\frac{1}{2 \\sigma^4} \\sum \\limits_{i=1}^n (\\hat{X}_i - \\mu)^2 = 0$\n",
        "\n",
        "\n",
        "$\\hat{\\sigma}^2_{MLE} = \\frac{1}{n} \\sum \\limits_{i=1}^n (\\hat{X}_i - \\hat{\\mu})^2$"
      ],
      "metadata": {
        "id": "AVfGi3sEw4DF"
      }
    },
    {
      "cell_type": "markdown",
      "metadata": {
        "id": "7O2Gt5rRwJEb"
      },
      "source": [
        "## Авторегрессия"
      ]
    },
    {
      "cell_type": "markdown",
      "source": [
        "### Модель"
      ],
      "metadata": {
        "id": "8eX8ZaopxjYa"
      }
    },
    {
      "cell_type": "markdown",
      "source": [
        "$X_0 = 0$\n",
        "\n",
        "$X_{i+1} = \\alpha \\cdot X_i + \\epsilon_{i+1} $\n",
        "\n",
        "$\\epsilon_i \\overset{iid}{\\sim}  \\mathcal{N}(0, \\sigma^2)$\n"
      ],
      "metadata": {
        "id": "OOqAKwADxnde"
      }
    },
    {
      "cell_type": "markdown",
      "source": [
        "### Параметры"
      ],
      "metadata": {
        "id": "znfdxYd3xnq6"
      }
    },
    {
      "cell_type": "markdown",
      "source": [
        "$\\theta = (\\alpha, \\sigma^2)$"
      ],
      "metadata": {
        "id": "UmsaGJ8dxvPX"
      }
    },
    {
      "cell_type": "markdown",
      "source": [
        "### Выборка"
      ],
      "metadata": {
        "id": "QrnYI5Fkxvm2"
      }
    },
    {
      "cell_type": "markdown",
      "source": [
        "$\\{\\hat{X}_i\\}_{i=0}^{n}$, где $\\hat{X}_i$ - реализация случайной величины $X_i$\n",
        "\n",
        "$\\hat{\\epsilon}_i =\\hat{X}_{i} - \\alpha \\hat{X}_{i-1}$"
      ],
      "metadata": {
        "id": "rfOwPsThxzYJ"
      }
    },
    {
      "cell_type": "markdown",
      "source": [
        "### Правдоподобие"
      ],
      "metadata": {
        "id": "CfrfRQq1xzjG"
      }
    },
    {
      "cell_type": "markdown",
      "source": [
        "$L(\\theta) = p_{\\theta}(\\hat{X}_1, ..., \\hat{X}_n) = p_{\\theta}(\\hat{X}_1) p_{\\theta}(\\hat{X}_2 | \\hat{X}_1) ... p_{\\theta}(\\hat{X}_n | \\hat{X}_{n-1}, ... \\hat{X}_1)  = \\prod \\limits_{i=1}^n p_{\\theta}(\\hat{X}_i | \\hat{X}_{i-1}) = \\prod \\limits_{i=1}^n \\mathcal{N}(\\hat{X}_i; \\alpha \\hat{X}_{i-1}, \\sigma^2)$\n",
        "\n",
        "$L(\\theta) = p_{\\theta}(\\hat{\\epsilon}_1, ..., \\hat{\\epsilon}_n) = \\prod \\limits_{i=1}^n p_{\\theta}(\\hat{\\epsilon}_i)  = \\prod \\limits_{i=1}^n \\mathcal{N}(\\hat{X}_i - \\alpha \\hat{X}_{i-1}; 0, \\sigma^2)$\n",
        "\n",
        "$l(\\theta) = - \\frac{n}{2} \\ln (2 \\pi \\sigma^2) - \\sum \\limits_{i=1}^n \\frac{(\\hat{X}_i - \\alpha \\cdot \\hat{X}_{i-1})^2}{2 \\sigma^2} =  - \\frac{n}{2} \\ln (2 \\pi \\sigma^2) - \\sum \\limits_{i=1}^n \\frac{\\hat{X}_i ^2  - 2\\alpha \\cdot \\hat{X}_i \\hat{X}_{i-1} + (\\alpha \\cdot \\hat{X}_{i-1})^2}{2 \\sigma^2}$"
      ],
      "metadata": {
        "id": "chQVQOkXx3a-"
      }
    },
    {
      "cell_type": "markdown",
      "source": [
        "### ММП-оценки"
      ],
      "metadata": {
        "id": "SCdouHY6x3po"
      }
    },
    {
      "cell_type": "markdown",
      "source": [
        "\n",
        "$l'_{\\alpha} =  - \\sum \\limits_{i=1}^n \\frac{ - 2 \\cdot \\hat{X}_i \\hat{X}_{i-1} + 2\\alpha \\cdot \\hat{X}_{i-1}^2}{2 \\sigma^2}\n",
        "= -\\frac{1}{ \\sigma^2} [ - \\sum \\limits_{i=1}^n \\hat{X}_i \\hat{X}_{i-1} + \\alpha \\cdot \\sum \\limits_{i=1}^n \\hat{X}_{i-1}^2 ]= 0$\n",
        "\n",
        "$\\hat{\\alpha}_{MLE} = \\frac{\\sum \\limits_{i=1}^n \\hat{X}_i \\hat{X}_{i-1} }{ \\sum \\limits_{i=1}^n \\hat{X}_{i-1}^2}$\n",
        "\n",
        "$l'_{\\sigma^2} = - \\frac{n}{2} \\frac{1}{\\sigma^2}  + \\frac{1}{2\\sigma^4} \\sum \\limits_{i=1}^n (\\hat{X}_i - \\alpha \\cdot \\hat{X}_{i-1})^2 = 0$\n",
        "\n",
        "$\\hat{\\sigma}^2_{MLE} = \\frac{1}{n} \\sum \\limits_{i=1}^n (\\hat{X}_i - \\hat{\\alpha} \\cdot \\hat{X}_{i-1})^2$"
      ],
      "metadata": {
        "id": "czz0onbXx4ol"
      }
    },
    {
      "cell_type": "markdown",
      "metadata": {
        "id": "aD1vl6HawJEc"
      },
      "source": [
        "## Пример c 2 кофейнями"
      ]
    },
    {
      "cell_type": "markdown",
      "source": [
        "**Дано**: выборка $\\{(\\hat{c}_1, \\hat{T}_1), ..., (\\hat{c}_n, \\hat{T}_n)\\}, \\; \\hat{c}_i \\in \\{0,1\\} - \\text{номер кофейни}, \\; \\hat{T}_i - \\text{время ожидания}$\n"
      ],
      "metadata": {
        "id": "5J0rUIBByame"
      }
    },
    {
      "cell_type": "markdown",
      "source": [
        "### Модель"
      ],
      "metadata": {
        "id": "ieLnaLzlyAt7"
      }
    },
    {
      "cell_type": "markdown",
      "source": [
        "$с_i \\overset{iid}{\\sim} Bern(q), \\; T_i | c_i  \\overset{iid}{\\sim} Exp(\\lambda_{c_i}), \\; p_{\\theta}((c_i, T_i)) = p_{q}(c_i) \\cdot p_{\\lambda_{c_i}}(T_i | c_i)$"
      ],
      "metadata": {
        "id": "TSjx698fyAt-"
      }
    },
    {
      "cell_type": "markdown",
      "source": [
        "### Параметры"
      ],
      "metadata": {
        "id": "JMEu_BFWyAt_"
      }
    },
    {
      "cell_type": "markdown",
      "source": [
        "$\\theta = (q, \\lambda_0, \\lambda_1)$"
      ],
      "metadata": {
        "id": "1hfVbPOsyAt_"
      }
    },
    {
      "cell_type": "markdown",
      "source": [
        "### Выборка"
      ],
      "metadata": {
        "id": "orrLsyCcyAuA"
      }
    },
    {
      "cell_type": "markdown",
      "source": [
        "$\\{(\\hat{c}_i, \\hat{T}_i)\\}_{i=0}^{n}$, где $\\hat{c}_i$ - реализация случайной величины $c_i$, a $\\hat{T}_i$ - реализация случайной величины $T_i$\n",
        "\n"
      ],
      "metadata": {
        "id": "dW7RvwDiyAuA"
      }
    },
    {
      "cell_type": "markdown",
      "source": [
        "### Правдоподобие"
      ],
      "metadata": {
        "id": "mN7NMD-ayAuA"
      }
    },
    {
      "cell_type": "markdown",
      "source": [
        "$L(\\theta) = p_{\\theta}((\\hat{c}_1, \\hat{T}_1), ..., (\\hat{c}_n, \\hat{T}_n)) = \\prod \\limits_{i=1}^{n} p_{q}(\\hat{c}_i ) p_{\\lambda_{c_i}}(\\hat{T}_i | \\hat{c}_i) = \\prod \\limits_{i=1}^{n} q^{\\hat{c}_i} (1-q)^{1-\\hat{c}_i} \\cdot \\lambda_{\\hat{c}_i} \\exp ( - \\lambda_{\\hat{c}_i} \\hat{T}_i)$\n",
        "\n",
        "$l(\\theta) = \\sum \\limits_{i=1}^{n} \\hat{c}_i \\ln q + (1-\\hat{c}_i) \\ln (1-q) + \\ln \\lambda_{\\hat{c}_i} - \\lambda_{\\hat{c}_i} \\hat{T}_i = $\n",
        "\n",
        "$=  \\sum \\limits_{i=1}^{n} \\hat{c}_i \\ln q + (1-\\hat{c}_i) \\ln (1-q) + (\\ln \\lambda_0  - \\lambda_0 \\hat{T}_i ) \\mathbb{1}[\\hat{c}_i = 0]+ (\\ln \\lambda_1  - \\lambda_1 \\hat{T}_i )  \\mathbb{1}[\\hat{c}_i = 1] $"
      ],
      "metadata": {
        "id": "QGj0CoaPyAuB"
      }
    },
    {
      "cell_type": "markdown",
      "source": [
        "### ММП-оценки"
      ],
      "metadata": {
        "id": "ikiLTPklyAuB"
      }
    },
    {
      "cell_type": "markdown",
      "source": [
        "$l'_q = \\sum \\limits_{i=1}^{n} \\hat{c}_i \\frac{1}{q} - (1-\\hat{c}_i) \\frac{1}{1-q} = 0$\n",
        "\n",
        "$\\hat{q}_{MLE} = \\frac{1}{n} \\sum \\limits_{i=1}^{n} \\hat{c}_i$\n",
        "\n",
        "$l'_{\\lambda_0} = \\sum \\limits_{i : \\hat{c}_i = 0} [ \\frac{1}{\\lambda_0} - \\hat{T}_i ] = 0$\n",
        "\n",
        "$\\hat{\\lambda}_{0_{MLE}} = \\frac{|\\{i: \\hat{c}_i=0\\} | }{ \\sum \\limits_{i : \\hat{c}_i = 0} \\hat{T}_i }$\n",
        "\n",
        "$l'_{\\lambda_1} = \\sum \\limits_{i : \\hat{c}_i = 1} [ \\frac{1}{\\lambda_1} - \\hat{T}_i ] = 0$\n",
        "\n",
        "$\\hat{\\lambda}_{1_{MLE}} = \\frac{|\\{i: \\hat{c}_i=1\\} | }{ \\sum \\limits_{i : \\hat{c}_i = 1} \\hat{T}_i }$"
      ],
      "metadata": {
        "id": "mnVFvbfXyAuB"
      }
    },
    {
      "cell_type": "markdown",
      "metadata": {
        "id": "0NG9CIl5wJEc"
      },
      "source": [
        "## Свойства ММП на примере матожидания нормального распределения\n"
      ]
    },
    {
      "cell_type": "markdown",
      "source": [
        "### Модель"
      ],
      "metadata": {
        "id": "p6AiDDtj1HH7"
      }
    },
    {
      "cell_type": "markdown",
      "source": [
        "$X_i \\overset{iid}{\\sim} \\mathcal{N}(\\mu, \\sigma^2)$"
      ],
      "metadata": {
        "id": "ombu3H981IuP"
      }
    },
    {
      "cell_type": "markdown",
      "source": [
        "### ММП-оценка матожидания как случайная величина"
      ],
      "metadata": {
        "id": "WTQFbEeB1MR9"
      }
    },
    {
      "cell_type": "markdown",
      "source": [
        "$\\hat{\\mu}_n = \\frac{1}{n} \\sum \\limits_{i=1}^n \\hat{X}_i  \\sim \\mathcal{N}(\\mu, \\frac{\\sigma^2}{n}) $"
      ],
      "metadata": {
        "id": "xR4evQo81Rcv"
      }
    },
    {
      "cell_type": "markdown",
      "source": [
        "### Асимптотическая несмещенность"
      ],
      "metadata": {
        "id": "wDjb28qC1ZoZ"
      }
    },
    {
      "cell_type": "markdown",
      "source": [
        "$\\mathbb{E}[\\theta_n] \\to \\theta$"
      ],
      "metadata": {
        "id": "xX1KuE971m1D"
      }
    },
    {
      "cell_type": "markdown",
      "source": [
        "$\\mathbb{E}[\\hat{\\mu}_n] = \\mu$"
      ],
      "metadata": {
        "id": "Rk278oy71gTD"
      }
    },
    {
      "cell_type": "markdown",
      "source": [
        "### Состоятельность"
      ],
      "metadata": {
        "id": "uAvKU-F-1pb4"
      }
    },
    {
      "cell_type": "markdown",
      "source": [
        "$\\hat{\\theta}_n \\overset{P}{\\to} \\theta, \\quad \\mathbb{P}[|\\hat{\\theta}_n - \\theta| \\geq \\epsilon] \\to 0$"
      ],
      "metadata": {
        "id": "8EssrPlq1sPc"
      }
    },
    {
      "cell_type": "markdown",
      "source": [
        "$\\mathbb{P}[|\\hat{\\mu}_n - \\mu| \\geq \\epsilon]  = \\mathbb{P}[\\frac{|\\hat{\\mu}_n - \\mu|}{\\sigma / \\sqrt{n}} \\geq \\frac{\\epsilon}{\\sigma / \\sqrt{n}}] = 2 [1 - \\Phi(\\frac{\\epsilon}{\\sigma / \\sqrt{n}})] \\to 0$"
      ],
      "metadata": {
        "id": "OCZB7nTS1ur3"
      }
    },
    {
      "cell_type": "markdown",
      "source": [
        "### Асимптотическая нормальность"
      ],
      "metadata": {
        "id": "xV2mHLle1x68"
      }
    },
    {
      "cell_type": "markdown",
      "source": [
        "$\\sqrt{n} (\\hat{\\theta}_n - \\theta) \\overset{d}{\\to} \\mathcal{N}(0, \\frac{1}{i(\\theta)})$, где $i(\\theta)$ - информация Фишера для 1 наблюдения $X_1$"
      ],
      "metadata": {
        "id": "fGCoGHSb10f_"
      }
    },
    {
      "cell_type": "markdown",
      "source": [
        "$\\sqrt{n}(\\hat{\\mu}_n - \\mu) \\sim \\mathcal{N}(0,\\sigma^2)$\n"
      ],
      "metadata": {
        "id": "MqQ1VodZ126p"
      }
    },
    {
      "cell_type": "markdown",
      "source": [
        "$i(\\mu) = - \\mathbb{E}[l''_{\\mu}]$\n",
        "\n",
        "$l(\\theta) = - \\frac{1}{2} \\ln (2 \\pi \\sigma^2) - \\frac{(\\hat{X}_1 - \\mu)^2}{2 \\sigma^2}, \\quad\n",
        "l'_{\\mu} = - \\frac{- 2 (\\hat{X}_1 - \\mu)}{2 \\sigma^2}, \\quad\n",
        "l''_{\\mu} = - \\frac{1}{\\sigma^2}, \\quad\n",
        "i(\\mu) = - \\mathbb{E}[l''_{\\mu}] = \\frac{1}{\\sigma^2}$\n"
      ],
      "metadata": {
        "id": "UIDkQGE014Pm"
      }
    },
    {
      "cell_type": "markdown",
      "metadata": {
        "id": "elHRYiFqwJEd"
      },
      "source": [
        "## Условия регулярности для информации Фишера"
      ]
    },
    {
      "cell_type": "markdown",
      "source": [
        "$X \\sim f(x | \\theta)$"
      ],
      "metadata": {
        "id": "vF1_5jf22A5d"
      }
    },
    {
      "cell_type": "markdown",
      "source": [
        "### Условия регулярности"
      ],
      "metadata": {
        "id": "pAkU3tvD2CWY"
      }
    },
    {
      "cell_type": "markdown",
      "source": [
        "1. Носитель $\\{ x : f(x | \\theta) > 0 \\}$ распределения не зависит от параметра $\\theta$\n",
        "\n",
        "2. $\\partial_{\\theta} \\ln l(\\theta)$ существует и конечная\n",
        "\n",
        "3. Для любой измеримой функции $W$ с $\\mathbb{E}_{\\theta} |W(X)| < \\infty$ выполнено $\\bigl( \\frac{\\partial}{\\partial \\theta} \\bigr)^k \\mathbb{E}_{\\theta} W(X) = \\bigl( \\frac{\\partial}{\\partial \\theta} \\bigr)^k \\int W(x) f(x | \\theta) dx = \\int W(x) \\bigl( \\frac{\\partial}{\\partial \\theta} \\bigr)^k f(x|\\theta) dx$"
      ],
      "metadata": {
        "id": "JDhl-ATQ2IrD"
      }
    },
    {
      "cell_type": "markdown",
      "source": [
        "### Пример нерегулярного семейства"
      ],
      "metadata": {
        "id": "wgUDiPw-2Kwn"
      }
    },
    {
      "cell_type": "markdown",
      "source": [
        "$U(0, a)$"
      ],
      "metadata": {
        "id": "BQej0hXn2NLI"
      }
    },
    {
      "cell_type": "markdown",
      "metadata": {
        "id": "_jLO4d3rwJEd"
      },
      "source": [
        "## Правдоподобие для экспоненциального семейства - вогнутая функция"
      ]
    },
    {
      "cell_type": "markdown",
      "source": [
        "### Экспоненциальное семество распределений"
      ],
      "metadata": {
        "id": "LOmUfFoJzg4E"
      }
    },
    {
      "cell_type": "markdown",
      "source": [
        "$p_{\\eta}(x) = h(x) \\exp [\\eta^T T(x) - A(\\eta)]$\n",
        "\n",
        "$\\eta$ - вектор параметров\n",
        "\n",
        "$T(x)$ - вектор достаточных статистик\n",
        "\n",
        "$A(\\eta)$ - лог-нормировочный коэффициент\n",
        "\n",
        "$\\exp A(\\eta) = \\int h(x) \\exp [\\eta^T T(x)] dx$\n",
        "\n",
        "$A(\\eta) = \\ln \\int h(x) \\exp [\\eta^T T(x)] dx$"
      ],
      "metadata": {
        "id": "_zUiiWAgzkSq"
      }
    },
    {
      "cell_type": "markdown",
      "source": [
        "### Пример: нормальное распределение"
      ],
      "metadata": {
        "id": "YJCxB7eRzmk9"
      }
    },
    {
      "cell_type": "markdown",
      "source": [
        "$p(x) = \\frac{1}{\\sqrt{2 \\pi} \\sigma} \\exp \\bigl[ - \\frac{1}{2 \\sigma^2} (x - \\mu)^2 \\bigr]$"
      ],
      "metadata": {
        "id": "uY0pKSUxzoM6"
      }
    },
    {
      "cell_type": "markdown",
      "source": [
        "$p(x) = \\frac{1}{\\sqrt{2 \\pi} \\sigma} \\exp \\bigl[ - \\frac{1}{2 \\sigma^2} (x - \\mu)^2 \\bigr] = \\frac{1}{\\sqrt{2 \\pi} } \\exp \\bigl[ \\frac{\\mu}{\\sigma^2} \\cdot x - \\frac{1}{2 \\sigma^2} \\cdot x^2 - \\frac{\\mu^2}{2 \\sigma^2} - \\log \\sigma \\bigr]$\n",
        "\n"
      ],
      "metadata": {
        "id": "J1gpJlEQ0DNR"
      }
    },
    {
      "cell_type": "markdown",
      "source": [
        "$h(x) = \\frac{1}{\\sqrt{2 \\pi}} $\n",
        "\n",
        "$T(x) = (x, x^2)^T$\n",
        "\n",
        "$\\eta = (\\frac{\\mu}{\\sigma^2}, - \\frac{1}{2 \\sigma^2})^T$\n",
        "\n",
        "$A(\\eta) = \\frac{\\mu^2}{2 \\sigma^2} + \\log \\sigma = - \\bigl(\\frac{\\mu}{\\sigma^2} \\bigr)^2 \\bigl( - \\frac{2 \\sigma^2}{1} \\bigr) \\frac{1}{4} + \\log \\sqrt{\\frac{2 \\sigma^2}{1} \\frac{1}{2}} = -\\eta_1^2 \\eta_2 \\frac{1}{4} + \\frac{1}{2} \\log (- \\eta_2 \\frac{1}{2})$"
      ],
      "metadata": {
        "id": "OvRKBRUf0KAQ"
      }
    },
    {
      "cell_type": "markdown",
      "source": [
        "### Лог-правдоподобие для независимых наблюдений имеет единственный максимум (вогнуто)"
      ],
      "metadata": {
        "id": "kqLBC_Hgz9Md"
      }
    },
    {
      "cell_type": "markdown",
      "source": [
        "$l(\\eta) = \\ln \\prod \\limits_{i=1}^n p_{\\eta}(\\hat{X}_i) = \\ln h(\\hat{X}_i) + \\eta^T \\sum \\limits_{i=1}^n T(\\hat{X}_i) - n A(\\eta)$\n",
        "\n",
        "$l'_{\\eta} = \\sum \\limits_{i=1}^n T(\\hat{X}_i) - n A'(\\eta)$\n",
        "\n",
        "$l''_{\\eta} = - n A''(\\eta)$"
      ],
      "metadata": {
        "id": "lpBkvDZz0av_"
      }
    },
    {
      "cell_type": "markdown",
      "source": [
        "$A(\\eta) = \\ln \\int h(x) \\exp [\\eta^T T(x)] dx$\n",
        "\n",
        "$A'(\\eta) = \\bigl[ \\ln \\int h(x) \\exp [\\eta^T T(x)] dx \\bigr]'\n",
        "= \\frac{1}{\\int h(x) \\exp [\\eta^T T(x)] dx} \\bigl[ \\int h(x) \\exp [\\eta^T T(x)] dx \\bigr]' =$\n",
        "\n",
        "$= \\exp [- A(\\eta)] \\int h(x) \\exp [\\eta^T T(x)] T(x) dx\n",
        "= \\int T(x) \\cdot h(x) \\exp [\\eta^T T(x) - A(\\eta)] dx =$\n",
        "\n",
        "$= \\int T(x) p(x) dx = \\mathbb{E}T(x)$\n",
        "\n",
        "$A''(\\eta) = [A'(\\eta)]' = [\\int T(x) \\cdot h(x) \\exp [\\eta^T T(x) - A(\\eta)] dx]' = $\n",
        "\n",
        "$ = \\int T(x) T(x)^T h(x) \\exp [\\eta^T T(x) - A(\\eta)] -  \\int T(x) \\cdot h(x) \\exp [\\eta^T T(x) - A(\\eta)] dx A'(\\eta) = $\n",
        "\n",
        "$ = \\mathbb{E} [T(x) T(x)^T] -  \\mathbb{E}[T(X)] \\mathbb{E}[T(X)] ^T = Cov [T(X)] \\geq 0$"
      ],
      "metadata": {
        "id": "bBPdiRpT0igG"
      }
    },
    {
      "cell_type": "markdown",
      "source": [
        "$l''_{\\eta} = - n A''(\\eta) \\leq 0$\n",
        "\n",
        "$l(\\eta)$ - вогнутая функция"
      ],
      "metadata": {
        "id": "4DPEry6b0mYH"
      }
    },
    {
      "cell_type": "markdown",
      "metadata": {
        "id": "SV7-B3pLwJEe"
      },
      "source": [
        "## Модель скользящего среднего"
      ]
    },
    {
      "cell_type": "markdown",
      "source": [
        "### Модель"
      ],
      "metadata": {
        "id": "6Qno-DFsyC55"
      }
    },
    {
      "cell_type": "markdown",
      "source": [
        "$X_0 = \\epsilon_0$\n",
        "\n",
        "$X_{i} = \\alpha \\cdot \\epsilon_{i-1} + \\epsilon_i $\n",
        "\n",
        "$\\epsilon_i \\overset{iid}{\\sim}  \\mathcal{N}(0, \\sigma^2)$"
      ],
      "metadata": {
        "id": "44sj_JSDyC57"
      }
    },
    {
      "cell_type": "markdown",
      "source": [
        "### Параметры"
      ],
      "metadata": {
        "id": "xH6K5WhFyC57"
      }
    },
    {
      "cell_type": "markdown",
      "source": [
        "$\\theta = (\\alpha, \\sigma^2)$"
      ],
      "metadata": {
        "id": "PCURHrxvyC58"
      }
    },
    {
      "cell_type": "markdown",
      "source": [
        "### Выборка"
      ],
      "metadata": {
        "id": "dIC0JefEyC58"
      }
    },
    {
      "cell_type": "markdown",
      "source": [
        "$\\{\\hat{X}_i \\}_{i=0}^n$, где $\\hat{X}_i$ - реализация случайной величины $X_i$\n",
        "\n",
        "$\\hat{\\epsilon}_0 = \\hat{X}_0$\n",
        "\n",
        "$\\hat{\\epsilon}_1 = \\hat{X}_1 - \\alpha \\hat{\\epsilon}_0 = \\hat{X}_1 - \\alpha \\hat{X}_0$\n",
        "\n",
        "$\\hat{\\epsilon}_2 = \\hat{X}_2 - \\alpha \\hat{\\epsilon}_1 = \\hat{X}_2 - \\alpha \\hat{X}_1 + \\alpha^2 \\hat{X}_0$\n",
        "\n",
        "$\\hat{\\epsilon}_i = \\hat{X}_i - \\alpha \\hat{\\epsilon}_{i-1} = \\sum \\limits_{j=0}^i (- \\alpha)^{i - j} \\hat{X}_j$\n"
      ],
      "metadata": {
        "id": "iZV8UfmNyC58"
      }
    },
    {
      "cell_type": "markdown",
      "source": [
        "### Правдоподобие"
      ],
      "metadata": {
        "id": "q3iNroN0yC58"
      }
    },
    {
      "cell_type": "markdown",
      "source": [
        "$X_0 = \\epsilon_0 \\sim \\mathcal{N}(0, \\sigma^2)$\n",
        "\n",
        "$X_1 = \\alpha \\cdot \\epsilon_0 + \\epsilon_1 = \\alpha X_0 + \\epsilon_1, \\quad X_1 | X_0 \\sim \\mathcal{N}(\\alpha \\cdot X_0 , \\sigma^2)$\n",
        "\n",
        "$X_2 = \\alpha \\cdot \\epsilon_1 + \\epsilon_2 = \\alpha (X_1 - \\alpha X_0) + \\epsilon_2 = \\alpha X_1 - \\alpha^2 X_0 + \\epsilon_2, \\quad X_2 | X_1, X_0 \\sim \\mathcal{N}(\\alpha X_1 - \\alpha^2 X_0, \\sigma^2)$\n",
        "\n",
        "$X_i = \\alpha \\cdot \\epsilon_{i-1} + \\epsilon_{i} = \\alpha (\\sum \\limits_{j=0}^i (- \\alpha)^{i - j} X_j) + \\epsilon_i = \\sum \\limits_{j=0}^{i-1} (- \\alpha)^{i - j} X_j + \\epsilon_{i}, \\quad X_i | X_{i-1}, X_{i-2}, ..., X_0 \\sim \\mathcal{N}(\\sum \\limits_{j=0}^{i-1} (- \\alpha)^{i - j} X_j, \\sigma^2)$\n",
        "\n"
      ],
      "metadata": {
        "id": "26O-I5hV_aFF"
      }
    },
    {
      "cell_type": "markdown",
      "source": [
        "$L(\\theta) = p(\\hat{X}_1, ..., \\hat{X}_n; \\theta) = \\prod \\limits_{i=0}^n p(\\hat{X}_i | \\hat{X}_{i-1}, \\hat{X}_{i-1}, ..., \\hat{X}_{0} ; \\theta) = \\prod \\limits_{i=0}^n \\mathcal{N}(\\hat{X}_i; \\alpha \\hat{\\epsilon}_{i-1}, \\sigma^2) = \\prod \\limits_{i=0}^n \\mathcal{N}(\\hat{X}_i; \\alpha \\sum \\limits_{j=0}^{i-1} (- \\alpha)^{i-1 - j} \\hat{X}_j, \\sigma^2)$\n",
        "\n",
        "$L(\\theta) = p(\\hat{\\epsilon}_1, ..., \\hat{\\epsilon}_n; \\theta) = \\prod \\limits_{i=1}^n p(\\hat{\\epsilon}_i,; \\theta) = \\prod \\limits_{i=0}^n \\mathcal{N}( \\sum \\limits_{j=0}^{i} (- \\alpha)^{i - j} \\hat{X}_j; 0, \\sigma^2)$\n",
        "\n",
        "$l(\\theta) = - \\frac{n}{2} \\ln (2 \\pi \\sigma^2) - \\sum \\limits_{i=0}^n \\frac{1}{2 \\sigma^2} [\\sum \\limits_{j=0}^i (- \\alpha)^{i - j} \\hat{X_j}]^2 = $\n",
        "\n",
        "$= - \\frac{n}{2} \\ln (2 \\pi \\sigma^2) - \\sum \\limits_{i=0}^n \\frac{1}{2 \\sigma^2}[\\sum \\limits_{j=0}^i \\alpha^{2(i-j)}\\hat{X}_j^2 + \\sum \\limits_{j=1}^i \\sum \\limits_{k=0}^{j-1} (-\\alpha)^{2i - j - k} \\hat{X}_j \\hat{X}_k]$"
      ],
      "metadata": {
        "id": "JAGcp9M8yC59"
      }
    },
    {
      "cell_type": "markdown",
      "source": [
        "### ММП-оценки"
      ],
      "metadata": {
        "id": "uVEm_yZ-yC59"
      }
    },
    {
      "cell_type": "markdown",
      "source": [
        "ММП-оценки могут быть получены с помощью численной оптимизации"
      ],
      "metadata": {
        "id": "5dEXRdZEyC59"
      }
    }
  ],
  "metadata": {
    "kernelspec": {
      "display_name": "Python 3",
      "language": "python",
      "name": "python3"
    },
    "language_info": {
      "codemirror_mode": {
        "name": "ipython",
        "version": 3
      },
      "file_extension": ".py",
      "mimetype": "text/x-python",
      "name": "python",
      "nbconvert_exporter": "python",
      "pygments_lexer": "ipython3",
      "version": "3.7.6"
    },
    "colab": {
      "provenance": [],
      "collapsed_sections": [
        "M_6qJhcKwJEX"
      ]
    }
  },
  "nbformat": 4,
  "nbformat_minor": 0
}
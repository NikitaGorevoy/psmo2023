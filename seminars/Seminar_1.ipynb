{
 "cells": [
  {
   "cell_type": "code",
   "execution_count": 1,
   "metadata": {
    "executionInfo": {
     "elapsed": 1321,
     "status": "ok",
     "timestamp": 1694168811905,
     "user": {
      "displayName": "Дарья Демидова",
      "userId": "17379068568578483334"
     },
     "user_tz": -180
    },
    "id": "DK4HSLRvwJER"
   },
   "outputs": [],
   "source": [
    "import pandas as pd\n",
    "import numpy as np\n",
    "\n",
    "import matplotlib.pyplot as plt\n",
    "%matplotlib inline\n",
    "\n",
    "from scipy.stats import norm\n",
    "from scipy.stats import beta"
   ]
  },
  {
   "cell_type": "markdown",
   "metadata": {
    "id": "LyHgU2jBwJEV"
   },
   "source": [
    "# Метод максимального правдоподобия (Maximum Likelihood Estimation)"
   ]
  },
  {
   "cell_type": "markdown",
   "metadata": {
    "id": "M_6qJhcKwJEX"
   },
   "source": [
    "## Мотивационный пример"
   ]
  },
  {
   "cell_type": "markdown",
   "metadata": {
    "id": "7trNtK0dwJEX"
   },
   "source": [
    "**Дано**: выборка людей и их рост $\\{\\hat{X}_1, ..., \\hat{X}_n\\}$\n",
    "\n",
    "**Модель**: рост распределен нормально $X \\sim \\mathcal{N}(\\mu, \\sigma^2)$\n",
    "\n",
    "**Задача**: оценить параметры $\\mu, \\sigma^2$"
   ]
  },
  {
   "cell_type": "markdown",
   "metadata": {
    "id": "Za7ijEuswOaF"
   },
   "source": [
    "### Ответ"
   ]
  },
  {
   "cell_type": "markdown",
   "metadata": {
    "id": "-3u2oZ9wwRzS"
   },
   "source": [
    "$\\hat{\\mu} = \\bar{X}, \\hat{\\sigma}^2 = S_n^2$"
   ]
  },
  {
   "cell_type": "markdown",
   "metadata": {
    "id": "Vlz7fuNowJEY"
   },
   "source": [
    "### Проверка на данных"
   ]
  },
  {
   "cell_type": "code",
   "execution_count": 2,
   "metadata": {
    "colab": {
     "base_uri": "https://localhost:8080/",
     "height": 130
    },
    "executionInfo": {
     "elapsed": 903,
     "status": "ok",
     "timestamp": 1694168839463,
     "user": {
      "displayName": "Дарья Демидова",
      "userId": "17379068568578483334"
     },
     "user_tz": -180
    },
    "id": "RKZcFg4dwJEY",
    "outputId": "d5dcad6d-bb17-4bc7-f999-b1392bd8e746"
   },
   "outputs": [
    {
     "data": {
      "text/html": [
       "<div>\n",
       "<style scoped>\n",
       "    .dataframe tbody tr th:only-of-type {\n",
       "        vertical-align: middle;\n",
       "    }\n",
       "\n",
       "    .dataframe tbody tr th {\n",
       "        vertical-align: top;\n",
       "    }\n",
       "\n",
       "    .dataframe thead th {\n",
       "        text-align: right;\n",
       "    }\n",
       "</style>\n",
       "<table border=\"1\" class=\"dataframe\">\n",
       "  <thead>\n",
       "    <tr style=\"text-align: right;\">\n",
       "      <th></th>\n",
       "      <th>Gender</th>\n",
       "      <th>Height</th>\n",
       "      <th>Weight</th>\n",
       "    </tr>\n",
       "  </thead>\n",
       "  <tbody>\n",
       "    <tr>\n",
       "      <th>0</th>\n",
       "      <td>Male</td>\n",
       "      <td>187.571423</td>\n",
       "      <td>109.702296</td>\n",
       "    </tr>\n",
       "    <tr>\n",
       "      <th>1</th>\n",
       "      <td>Male</td>\n",
       "      <td>174.706036</td>\n",
       "      <td>73.610192</td>\n",
       "    </tr>\n",
       "  </tbody>\n",
       "</table>\n",
       "</div>"
      ],
      "text/plain": [
       "  Gender      Height      Weight\n",
       "0   Male  187.571423  109.702296\n",
       "1   Male  174.706036   73.610192"
      ]
     },
     "execution_count": 2,
     "metadata": {},
     "output_type": "execute_result"
    }
   ],
   "source": [
    "# load data and convert to metric system\n",
    "\n",
    "path = 'datasets/weight-height.csv'\n",
    "\n",
    "data = pd.read_csv(path)\n",
    "data['Height'] *= 2.54\n",
    "data['Weight'] /= 2.205\n",
    "data.head(2)"
   ]
  },
  {
   "cell_type": "code",
   "execution_count": 3,
   "metadata": {
    "executionInfo": {
     "elapsed": 387,
     "status": "ok",
     "timestamp": 1694168842944,
     "user": {
      "displayName": "Дарья Демидова",
      "userId": "17379068568578483334"
     },
     "user_tz": -180
    },
    "id": "Vd0GaSYXwJEZ"
   },
   "outputs": [],
   "source": [
    "# split data into male and female datasets\n",
    "\n",
    "data_male = data[data['Gender'] == 'Male'].copy()\n",
    "data_female = data[data['Gender'] == 'Female'].copy()"
   ]
  },
  {
   "cell_type": "code",
   "execution_count": 4,
   "metadata": {
    "colab": {
     "base_uri": "https://localhost:8080/"
    },
    "executionInfo": {
     "elapsed": 10,
     "status": "ok",
     "timestamp": 1694168844162,
     "user": {
      "displayName": "Дарья Демидова",
      "userId": "17379068568578483334"
     },
     "user_tz": -180
    },
    "id": "hHaZ4WNfwJEZ",
    "outputId": "3bb6d615-71dd-4ce6-9cc4-3b78eca65b09"
   },
   "outputs": [
    {
     "name": "stdout",
     "output_type": "stream",
     "text": [
      "Male height statistics \n",
      " mean    175.326919\n",
      "std       7.272940\n",
      "Name: Height, dtype: float64\n",
      "\n",
      "Female height statistics \n",
      " mean    161.820285\n",
      "std       6.848561\n",
      "Name: Height, dtype: float64\n"
     ]
    }
   ],
   "source": [
    "# find mean and std of male and female height dataset\n",
    "\n",
    "print('Male height statistics \\n', data_male.describe()['Height'][['mean', 'std']])\n",
    "\n",
    "print('\\nFemale height statistics \\n', data_female.describe()['Height'][['mean', 'std']])"
   ]
  },
  {
   "cell_type": "code",
   "execution_count": 5,
   "metadata": {
    "colab": {
     "base_uri": "https://localhost:8080/",
     "height": 470
    },
    "executionInfo": {
     "elapsed": 2036,
     "status": "ok",
     "timestamp": 1694168884907,
     "user": {
      "displayName": "Дарья Демидова",
      "userId": "17379068568578483334"
     },
     "user_tz": -180
    },
    "id": "mtO2tbsSwJEZ",
    "outputId": "2459d1b3-729c-49ce-d296-9202c5d0e4fc"
   },
   "outputs": [
    {
     "data": {
      "image/png": "[encoded data removed]",
      "text/plain": [
       "<Figure size 1000x500 with 4 Axes>"
      ]
     },
     "metadata": {},
     "output_type": "display_data"
    }
   ],
   "source": [
    "# plot histograms of height datasets\n",
    "\n",
    "fig, axes = plt.subplots(2,1, figsize=(10,5))\n",
    "\n",
    "axes[0].hist(data_male['Height'], label='male height data', bins=100, color='blue', range=[130, 210])\n",
    "axes[1].hist(data_female['Height'], label='female height data', bins=100, color='red', range=[130, 210])\n",
    "\n",
    "axes[0].legend(loc=2, fontsize=10)\n",
    "axes[1].legend(loc=2, fontsize=10)\n",
    "\n",
    "# plot pdfs of normal distribution with optimal mean and std\n",
    "\n",
    "axes_twinx = [axes[0].twinx(), axes[1].twinx()]\n",
    "\n",
    "x_axis = np.arange(130, 210, 1)\n",
    "\n",
    "axes_twinx[0].plot(x_axis, norm.pdf(x_axis, data_male.describe()['Height']['mean'], data_male.describe()['Height']['std']), label='male height normal distribution', color='blue')\n",
    "axes_twinx[1].plot(x_axis, norm.pdf(x_axis, data_female.describe()['Height']['mean'], data_female.describe()['Height']['std']), label='female height normal distribution', color='red')\n",
    "\n",
    "axes_twinx[0].legend(loc=1, fontsize=10)\n",
    "axes_twinx[1].legend(loc=1, fontsize=10)\n",
    "\n",
    "plt.show()"
   ]
  },
  {
   "cell_type": "markdown",
   "metadata": {
    "id": "ka6i3b5awJEa"
   },
   "source": [
    "## Определения"
   ]
  },
  {
   "cell_type": "markdown",
   "metadata": {
    "id": "1Q8WT66gwJEa"
   },
   "source": [
    "Случайные величины $X_1, ..., X_n \\sim p_{\\theta}(x_1, ..., x_n) $\n",
    "\n",
    "Выборка $\\{ \\hat{X}_1, ..., \\hat{X}_n \\}$, где $\\hat{X}_i$ - реализация случайной величины $X_i$\n",
    "\n",
    "Правдоподобие $L(\\theta) = p_{\\theta}(\\hat{X}_1, ..., \\hat{X}_n)$\n",
    "\n",
    "Лог-правдоподобие $l(\\theta) = \\ln p_{\\theta}(\\hat{X}_1, ..., \\hat{X}_n)$\n",
    "\n",
    "ММП-оценка параметра $\\hat{\\theta} = \\arg \\max \\limits_{\\theta} L(\\theta) = \\arg \\max \\limits_{\\theta} l(\\theta)$"
   ]
  },
  {
   "cell_type": "markdown",
   "metadata": {
    "id": "Lb8FN7NvwJEa"
   },
   "source": [
    "## Аналитический вывод ММП-параметров для модели независимых наблюдений"
   ]
  },
  {
   "cell_type": "markdown",
   "metadata": {
    "id": "GL_0XQlcwsAX"
   },
   "source": [
    "### Модель"
   ]
  },
  {
   "cell_type": "markdown",
   "metadata": {
    "id": "5ZmLZKgqwuw7"
   },
   "source": [
    "$X_i \\overset{iid}{\\sim} \\mathcal{N}(\\mu, \\sigma^2)$"
   ]
  },
  {
   "cell_type": "markdown",
   "metadata": {
    "id": "BiaVXUtfwvdz"
   },
   "source": [
    "### Параметры"
   ]
  },
  {
   "cell_type": "markdown",
   "metadata": {
    "id": "hN2th277wxt_"
   },
   "source": [
    "$\\theta = (\\mu, \\sigma^2)$"
   ]
  },
  {
   "cell_type": "markdown",
   "metadata": {
    "id": "NiTQ-1e9xANn"
   },
   "source": [
    "### Выборка"
   ]
  },
  {
   "cell_type": "markdown",
   "metadata": {
    "id": "lGc_G14xxBzx"
   },
   "source": [
    "$\\{\\hat{X}_i\\}_{i=1}^{n}$, где $\\hat{X}_i$ - реализация случайной величины $X_i$"
   ]
  },
  {
   "cell_type": "markdown",
   "metadata": {
    "id": "owouk4gGwz3f"
   },
   "source": [
    "### Правдоподобие"
   ]
  },
  {
   "cell_type": "markdown",
   "metadata": {
    "id": "mV1xLcuIw22O"
   },
   "source": [
    "$L(\\theta) = p_{\\theta}(\\hat{X}_1, ..., \\hat{X}_n) = \\prod \\limits_{i=1}^{n} p_{\\mathcal{N}( \\mu, \\sigma^2)}(\\hat{X}_i)  = \\prod \\limits_{i=1}^{n} \\frac{1}{\\sqrt{2 \\pi \\sigma^2 }} \\exp \\bigl[ - \\frac{(\\hat{X}_i - \\mu)^2}{2 \\sigma^2}\\bigr]$\n",
    "\n",
    "$l(\\theta) = \\sum \\limits_{i=1}^{n} \\ln p_{\\mathcal{N}( \\mu, \\sigma^2)}(\\hat{X}_i)\n",
    "= - \\frac{n}{2} \\ln (2 \\pi \\sigma^2) - \\sum \\limits_{i=1}^n \\frac{(\\hat{X}_i - \\mu)^2}{2 \\sigma^2}$"
   ]
  },
  {
   "cell_type": "markdown",
   "metadata": {
    "id": "YVTqlZlpw3AV"
   },
   "source": [
    "### ММП-оценки"
   ]
  },
  {
   "cell_type": "markdown",
   "metadata": {
    "id": "AVfGi3sEw4DF"
   },
   "source": [
    "$l'_{\\mu} = - \\sum \\limits_{i=1}^n \\frac{- 2 (\\hat{X}_i - \\mu)}{2 \\sigma^2} = 0$\n",
    "\n",
    "$\\hat{\\mu}_{MLE} = \\frac{1}{n} \\sum \\limits_{i=1}^n \\hat{X}_i$\n",
    "\n",
    "\n",
    "$l'_{\\sigma^2} = - \\frac{n}{2} \\frac{1}{\\sigma^2}  + \\frac{1}{2 \\sigma^4} \\sum \\limits_{i=1}^n (\\hat{X}_i - \\mu)^2 = 0$\n",
    "\n",
    "\n",
    "$\\hat{\\sigma}^2_{MLE} = \\frac{1}{n} \\sum \\limits_{i=1}^n (\\hat{X}_i - \\hat{\\mu})^2$"
   ]
  },
  {
   "cell_type": "markdown",
   "metadata": {
    "id": "7O2Gt5rRwJEb"
   },
   "source": [
    "## Авторегрессия"
   ]
  },
  {
   "cell_type": "markdown",
   "metadata": {
    "id": "8eX8ZaopxjYa"
   },
   "source": [
    "### Модель"
   ]
  },
  {
   "cell_type": "markdown",
   "metadata": {
    "id": "OOqAKwADxnde"
   },
   "source": [
    "$X_0 = 0$\n",
    "\n",
    "$X_{i+1} = \\alpha \\cdot X_i + \\epsilon_{i+1} $\n",
    "\n",
    "$\\epsilon_i \\overset{iid}{\\sim}  \\mathcal{N}(0, \\sigma^2)$\n"
   ]
  },
  {
   "cell_type": "markdown",
   "metadata": {
    "id": "znfdxYd3xnq6"
   },
   "source": [
    "### Параметры"
   ]
  },
  {
   "cell_type": "markdown",
   "metadata": {
    "id": "UmsaGJ8dxvPX"
   },
   "source": [
    "$\\theta = (\\alpha, \\sigma^2)$"
   ]
  },
  {
   "cell_type": "markdown",
   "metadata": {
    "id": "QrnYI5Fkxvm2"
   },
   "source": [
    "### Выборка"
   ]
  },
  {
   "cell_type": "markdown",
   "metadata": {
    "id": "rfOwPsThxzYJ"
   },
   "source": [
    "$\\{\\hat{X}_i\\}_{i=0}^{n}$, где $\\hat{X}_i$ - реализация случайной величины $X_i$\n",
    "\n",
    "$\\hat{\\epsilon}_i =\\hat{X}_{i} - \\alpha \\hat{X}_{i-1}$"
   ]
  },
  {
   "cell_type": "markdown",
   "metadata": {
    "id": "CfrfRQq1xzjG"
   },
   "source": [
    "### Правдоподобие"
   ]
  },
  {
   "cell_type": "markdown",
   "metadata": {
    "id": "jrOQG-KOJItP"
   },
   "source": [
    "$X_{i+1} = \\alpha \\cdot X_i + \\epsilon_{i+1}, \\quad X_{i+1} | X_i \\sim \\mathcal{N}(\\alpha X_i, \\sigma^2)$\n"
   ]
  },
  {
   "cell_type": "markdown",
   "metadata": {
    "id": "chQVQOkXx3a-"
   },
   "source": [
    "$L(\\theta) = p_{\\theta}(\\hat{X}_1, ..., \\hat{X}_n) = p_{\\theta}(\\hat{X}_1) p_{\\theta}(\\hat{X}_2 | \\hat{X}_1) ... p_{\\theta}(\\hat{X}_n | \\hat{X}_{n-1}, ... \\hat{X}_1)  = \\prod \\limits_{i=1}^n p_{\\theta}(\\hat{X}_i | \\hat{X}_{i-1}) = \\prod \\limits_{i=1}^n p_{\\mathcal{N}(\\alpha \\hat{X}_{i-1}, \\sigma^2)}(\\hat{X}_i)$\n",
    "\n",
    "$L(\\theta) = p_{\\theta}(\\hat{\\epsilon}_1, ..., \\hat{\\epsilon}_n) = \\prod \\limits_{i=1}^n p_{\\theta}(\\hat{\\epsilon}_i)  = \\prod \\limits_{i=1}^n p_{\\mathcal{N}(0, \\sigma^2)}(\\hat{X}_i - \\alpha \\hat{X}_{i-1})$\n",
    "\n",
    "$l(\\theta) = - \\frac{n}{2} \\ln (2 \\pi \\sigma^2) - \\sum \\limits_{i=1}^n \\frac{(\\hat{X}_i - \\alpha \\cdot \\hat{X}_{i-1})^2}{2 \\sigma^2} =  - \\frac{n}{2} \\ln (2 \\pi \\sigma^2) - \\sum \\limits_{i=1}^n \\frac{\\hat{X}_i ^2  - 2\\alpha \\cdot \\hat{X}_i \\hat{X}_{i-1} + (\\alpha \\cdot \\hat{X}_{i-1})^2}{2 \\sigma^2}$"
   ]
  },
  {
   "cell_type": "markdown",
   "metadata": {
    "id": "SCdouHY6x3po"
   },
   "source": [
    "### ММП-оценки"
   ]
  },
  {
   "cell_type": "markdown",
   "metadata": {
    "id": "czz0onbXx4ol"
   },
   "source": [
    "\n",
    "$l'_{\\alpha} =  - \\sum \\limits_{i=1}^n \\frac{ - 2 \\cdot \\hat{X}_i \\hat{X}_{i-1} + 2\\alpha \\cdot \\hat{X}_{i-1}^2}{2 \\sigma^2}\n",
    "= -\\frac{1}{ \\sigma^2} [ - \\sum \\limits_{i=1}^n \\hat{X}_i \\hat{X}_{i-1} + \\alpha \\cdot \\sum \\limits_{i=1}^n \\hat{X}_{i-1}^2 ]= 0$\n",
    "\n",
    "$\\hat{\\alpha}_{MLE} = \\frac{\\sum \\limits_{i=1}^n \\hat{X}_i \\hat{X}_{i-1} }{ \\sum \\limits_{i=1}^n \\hat{X}_{i-1}^2}$\n",
    "\n",
    "$l'_{\\sigma^2} = - \\frac{n}{2} \\frac{1}{\\sigma^2}  + \\frac{1}{2\\sigma^4} \\sum \\limits_{i=1}^n (\\hat{X}_i - \\alpha \\cdot \\hat{X}_{i-1})^2 = 0$\n",
    "\n",
    "$\\hat{\\sigma}^2_{MLE} = \\frac{1}{n} \\sum \\limits_{i=1}^n (\\hat{X}_i - \\hat{\\alpha} \\cdot \\hat{X}_{i-1})^2$"
   ]
  },
  {
   "cell_type": "markdown",
   "metadata": {
    "id": "aD1vl6HawJEc"
   },
   "source": [
    "## Пример c 2 кофейнями"
   ]
  },
  {
   "cell_type": "markdown",
   "metadata": {
    "id": "5J0rUIBByame"
   },
   "source": [
    "**Дано**: выборка $\\{(\\hat{c}_1, \\hat{T}_1), ..., (\\hat{c}_n, \\hat{T}_n)\\}, \\; \\hat{c}_i \\in \\{0,1\\} - \\text{номер кофейни}, \\; \\hat{T}_i - \\text{время ожидания в очереди}$\n",
    "\n",
    "**Найти**: популярность кофейн и распределение времени ожидания в них\n"
   ]
  },
  {
   "cell_type": "markdown",
   "metadata": {
    "id": "ieLnaLzlyAt7"
   },
   "source": [
    "### Модель"
   ]
  },
  {
   "cell_type": "markdown",
   "metadata": {
    "id": "TSjx698fyAt-"
   },
   "source": [
    "$с_i \\overset{iid}{\\sim} Bern(q), \\; T_i | c_i  \\overset{iid}{\\sim} Exp(\\lambda_{c_i}), \\; p_{\\theta}((c_i, T_i)) = p_{q}(c_i) \\cdot p_{\\lambda_{c_i}}(T_i | c_i)$"
   ]
  },
  {
   "cell_type": "markdown",
   "metadata": {
    "id": "JMEu_BFWyAt_"
   },
   "source": [
    "### Параметры"
   ]
  },
  {
   "cell_type": "markdown",
   "metadata": {
    "id": "1hfVbPOsyAt_"
   },
   "source": [
    "$\\theta = (q, \\lambda_0, \\lambda_1)$"
   ]
  },
  {
   "cell_type": "markdown",
   "metadata": {
    "id": "orrLsyCcyAuA"
   },
   "source": [
    "### Выборка"
   ]
  },
  {
   "cell_type": "markdown",
   "metadata": {
    "id": "dW7RvwDiyAuA"
   },
   "source": [
    "$\\{(\\hat{c}_i, \\hat{T}_i)\\}_{i=0}^{n}$, где $\\hat{c}_i$ - реализация случайной величины $c_i$, a $\\hat{T}_i$ - реализация случайной величины $T_i$\n",
    "\n"
   ]
  },
  {
   "cell_type": "markdown",
   "metadata": {
    "id": "mN7NMD-ayAuA"
   },
   "source": [
    "### Правдоподобие"
   ]
  },
  {
   "cell_type": "markdown",
   "metadata": {
    "id": "QGj0CoaPyAuB"
   },
   "source": [
    "$L(\\theta) = p_{\\theta}((\\hat{c}_1, \\hat{T}_1), ..., (\\hat{c}_n, \\hat{T}_n)) = \\prod \\limits_{i=1}^{n} p_{q}(\\hat{c}_i ) p_{\\lambda_{c_i}}(\\hat{T}_i | \\hat{c}_i) = \\prod \\limits_{i=1}^{n} q^{\\hat{c}_i} (1-q)^{1-\\hat{c}_i} \\cdot \\lambda_{\\hat{c}_i} \\exp ( - \\lambda_{\\hat{c}_i} \\hat{T}_i)$\n",
    "\n",
    "$l(\\theta) = \\sum \\limits_{i=1}^{n} \\hat{c}_i \\ln q + (1-\\hat{c}_i) \\ln (1-q) + \\ln \\lambda_{\\hat{c}_i} - \\lambda_{\\hat{c}_i} \\hat{T}_i = $\n",
    "\n",
    "$=  \\sum \\limits_{i=1}^{n} \\hat{c}_i \\ln q + (1-\\hat{c}_i) \\ln (1-q) + (\\ln \\lambda_0  - \\lambda_0 \\hat{T}_i ) \\mathbb{1}[\\hat{c}_i = 0]+ (\\ln \\lambda_1  - \\lambda_1 \\hat{T}_i )  \\mathbb{1}[\\hat{c}_i = 1] $"
   ]
  },
  {
   "cell_type": "markdown",
   "metadata": {
    "id": "ikiLTPklyAuB"
   },
   "source": [
    "### ММП-оценки"
   ]
  },
  {
   "cell_type": "markdown",
   "metadata": {
    "id": "mnVFvbfXyAuB"
   },
   "source": [
    "$l'_q = \\sum \\limits_{i=1}^{n} \\hat{c}_i \\frac{1}{q} - (1-\\hat{c}_i) \\frac{1}{1-q} = 0$\n",
    "\n",
    "$\\hat{q}_{MLE} = \\frac{1}{n} \\sum \\limits_{i=1}^{n} \\hat{c}_i$\n",
    "\n",
    "$l'_{\\lambda_0} = \\sum \\limits_{i : \\hat{c}_i = 0} [ \\frac{1}{\\lambda_0} - \\hat{T}_i ] = 0$\n",
    "\n",
    "$\\hat{\\lambda}_{0_{MLE}} = \\frac{|\\{i: \\hat{c}_i=0\\} | }{ \\sum \\limits_{i : \\hat{c}_i = 0} \\hat{T}_i }$\n",
    "\n",
    "$l'_{\\lambda_1} = \\sum \\limits_{i : \\hat{c}_i = 1} [ \\frac{1}{\\lambda_1} - \\hat{T}_i ] = 0$\n",
    "\n",
    "$\\hat{\\lambda}_{1_{MLE}} = \\frac{|\\{i: \\hat{c}_i=1\\} | }{ \\sum \\limits_{i : \\hat{c}_i = 1} \\hat{T}_i }$"
   ]
  },
  {
   "cell_type": "markdown",
   "metadata": {
    "id": "0NG9CIl5wJEc"
   },
   "source": [
    "## Свойства ММП на примере матожидания нормального распределения\n"
   ]
  },
  {
   "cell_type": "markdown",
   "metadata": {
    "id": "p6AiDDtj1HH7"
   },
   "source": [
    "### Модель"
   ]
  },
  {
   "cell_type": "markdown",
   "metadata": {
    "id": "ombu3H981IuP"
   },
   "source": [
    "$X_i \\overset{iid}{\\sim} \\mathcal{N}(\\mu, \\sigma^2)$"
   ]
  },
  {
   "cell_type": "markdown",
   "metadata": {
    "id": "WTQFbEeB1MR9"
   },
   "source": [
    "### ММП-оценка матожидания как случайная величина"
   ]
  },
  {
   "cell_type": "markdown",
   "metadata": {
    "id": "xR4evQo81Rcv"
   },
   "source": [
    "$\\hat{\\mu}_n = \\frac{1}{n} \\sum \\limits_{i=1}^n \\hat{X}_i  \\sim \\mathcal{N}(\\mu, \\frac{\\sigma^2}{n}) $"
   ]
  },
  {
   "cell_type": "markdown",
   "metadata": {
    "id": "wDjb28qC1ZoZ"
   },
   "source": [
    "### Асимптотическая несмещенность"
   ]
  },
  {
   "cell_type": "markdown",
   "metadata": {
    "id": "xX1KuE971m1D"
   },
   "source": [
    "$\\mathbb{E}[\\theta_n] \\to \\theta$"
   ]
  },
  {
   "cell_type": "markdown",
   "metadata": {
    "id": "Rk278oy71gTD"
   },
   "source": [
    "$\\mathbb{E}[\\hat{\\mu}_n] = \\mu$"
   ]
  },
  {
   "cell_type": "markdown",
   "metadata": {
    "id": "uAvKU-F-1pb4"
   },
   "source": [
    "### Состоятельность"
   ]
  },
  {
   "cell_type": "markdown",
   "metadata": {
    "id": "8EssrPlq1sPc"
   },
   "source": [
    "$\\hat{\\theta}_n \\overset{P}{\\to} \\theta, \\quad \\mathbb{P}[|\\hat{\\theta}_n - \\theta| \\geq \\epsilon] \\to 0$"
   ]
  },
  {
   "cell_type": "markdown",
   "metadata": {
    "id": "OCZB7nTS1ur3"
   },
   "source": [
    "$\\mathbb{P}[|\\hat{\\mu}_n - \\mu| \\geq \\epsilon]  = \\mathbb{P}[\\frac{|\\hat{\\mu}_n - \\mu|}{\\sigma / \\sqrt{n}} \\geq \\frac{\\epsilon}{\\sigma / \\sqrt{n}}] = 2 [1 - \\Phi(\\frac{\\epsilon}{\\sigma / \\sqrt{n}})] \\to 0$"
   ]
  },
  {
   "cell_type": "markdown",
   "metadata": {
    "id": "xV2mHLle1x68"
   },
   "source": [
    "### Асимптотическая нормальность"
   ]
  },
  {
   "cell_type": "markdown",
   "metadata": {
    "id": "fGCoGHSb10f_"
   },
   "source": [
    "$\\sqrt{n} (\\hat{\\theta}_n - \\theta) \\overset{d}{\\to} \\mathcal{N}(0, \\frac{1}{i(\\theta)})$, где $i(\\theta)$ - информация Фишера для 1 наблюдения $X_1$"
   ]
  },
  {
   "cell_type": "markdown",
   "metadata": {
    "id": "MqQ1VodZ126p"
   },
   "source": [
    "$\\sqrt{n}(\\hat{\\mu}_n - \\mu) \\sim \\mathcal{N}(0,\\sigma^2)$\n"
   ]
  },
  {
   "cell_type": "markdown",
   "metadata": {
    "id": "UIDkQGE014Pm"
   },
   "source": [
    "$i(\\mu) = - \\mathbb{E}[l''_{\\mu}]$\n",
    "\n",
    "$l(\\theta) = - \\frac{1}{2} \\ln (2 \\pi \\sigma^2) - \\frac{(\\hat{X}_1 - \\mu)^2}{2 \\sigma^2}, \\quad\n",
    "l'_{\\mu} = - \\frac{- 2 (\\hat{X}_1 - \\mu)}{2 \\sigma^2}, \\quad\n",
    "l''_{\\mu} = - \\frac{1}{\\sigma^2}, \\quad\n",
    "i(\\mu) = - \\mathbb{E}[l''_{\\mu}] = \\frac{1}{\\sigma^2}$\n"
   ]
  },
  {
   "cell_type": "markdown",
   "metadata": {
    "id": "elHRYiFqwJEd"
   },
   "source": [
    "## Условия регулярности для информации Фишера"
   ]
  },
  {
   "cell_type": "markdown",
   "metadata": {
    "id": "vF1_5jf22A5d"
   },
   "source": [
    "$X \\sim f(x | \\theta)$"
   ]
  },
  {
   "cell_type": "markdown",
   "metadata": {
    "id": "pAkU3tvD2CWY"
   },
   "source": [
    "### Условия регулярности"
   ]
  },
  {
   "cell_type": "markdown",
   "metadata": {
    "id": "JDhl-ATQ2IrD"
   },
   "source": [
    "1. Носитель $\\{ x : f(x | \\theta) > 0 \\}$ распределения не зависит от параметра $\\theta$\n",
    "\n",
    "2. $\\partial_{\\theta} \\ln l(\\theta)$ существует и конечная\n",
    "\n",
    "3. Для любой измеримой функции $W$ с $\\mathbb{E}_{\\theta} |W(X)| < \\infty$ выполнено $\\bigl( \\frac{\\partial}{\\partial \\theta} \\bigr)^k \\mathbb{E}_{\\theta} W(X) = \\bigl( \\frac{\\partial}{\\partial \\theta} \\bigr)^k \\int W(x) f(x | \\theta) dx = \\int W(x) \\bigl( \\frac{\\partial}{\\partial \\theta} \\bigr)^k f(x|\\theta) dx$"
   ]
  },
  {
   "cell_type": "markdown",
   "metadata": {
    "id": "wgUDiPw-2Kwn"
   },
   "source": [
    "### Пример нерегулярного семейства"
   ]
  },
  {
   "cell_type": "markdown",
   "metadata": {
    "id": "BQej0hXn2NLI"
   },
   "source": [
    "$U(0, a)$"
   ]
  },
  {
   "cell_type": "markdown",
   "metadata": {
    "id": "_jLO4d3rwJEd"
   },
   "source": [
    "## Правдоподобие для экспоненциального семейства - вогнутая функция"
   ]
  },
  {
   "cell_type": "markdown",
   "metadata": {
    "id": "LOmUfFoJzg4E"
   },
   "source": [
    "### Экспоненциальное семество распределений"
   ]
  },
  {
   "cell_type": "markdown",
   "metadata": {
    "id": "_zUiiWAgzkSq"
   },
   "source": [
    "$p_{\\eta}(x) = h(x) \\exp [\\eta^T T(x) - A(\\eta)]$\n",
    "\n",
    "$\\eta$ - вектор параметров\n",
    "\n",
    "$T(x)$ - вектор достаточных статистик\n",
    "\n",
    "$A(\\eta)$ - лог-нормировочный коэффициент\n",
    "\n",
    "$\\exp A(\\eta) = \\int h(x) \\exp [\\eta^T T(x)] dx$\n",
    "\n",
    "$A(\\eta) = \\ln \\int h(x) \\exp [\\eta^T T(x)] dx$"
   ]
  },
  {
   "cell_type": "markdown",
   "metadata": {
    "id": "YJCxB7eRzmk9"
   },
   "source": [
    "### Пример: нормальное распределение"
   ]
  },
  {
   "cell_type": "markdown",
   "metadata": {
    "id": "uY0pKSUxzoM6"
   },
   "source": [
    "$p(x) = \\frac{1}{\\sqrt{2 \\pi} \\sigma} \\exp \\bigl[ - \\frac{1}{2 \\sigma^2} (x - \\mu)^2 \\bigr]$"
   ]
  },
  {
   "cell_type": "markdown",
   "metadata": {
    "id": "J1gpJlEQ0DNR"
   },
   "source": [
    "$p(x) = \\frac{1}{\\sqrt{2 \\pi} \\sigma} \\exp \\bigl[ - \\frac{1}{2 \\sigma^2} (x - \\mu)^2 \\bigr] = \\frac{1}{\\sqrt{2 \\pi} } \\exp \\bigl[ \\frac{\\mu}{\\sigma^2} \\cdot x - \\frac{1}{2 \\sigma^2} \\cdot x^2 - \\frac{\\mu^2}{2 \\sigma^2} - \\log \\sigma \\bigr]$\n",
    "\n"
   ]
  },
  {
   "cell_type": "markdown",
   "metadata": {
    "id": "OvRKBRUf0KAQ"
   },
   "source": [
    "$h(x) = \\frac{1}{\\sqrt{2 \\pi}} $\n",
    "\n",
    "$T(x) = (x, x^2)^T$\n",
    "\n",
    "$\\eta = (\\frac{\\mu}{\\sigma^2}, - \\frac{1}{2 \\sigma^2})^T$\n",
    "\n",
    "$A(\\eta) = \\frac{\\mu^2}{2 \\sigma^2} + \\log \\sigma = - \\bigl(\\frac{\\mu}{\\sigma^2} \\bigr)^2 \\bigl( - \\frac{2 \\sigma^2}{1} \\bigr) \\frac{1}{4} + \\log \\sqrt{\\frac{2 \\sigma^2}{1} \\frac{1}{2}} = -\\eta_1^2 \\eta_2 \\frac{1}{4} + \\frac{1}{2} \\log (- \\eta_2 \\frac{1}{2})$"
   ]
  },
  {
   "cell_type": "markdown",
   "metadata": {
    "id": "kqLBC_Hgz9Md"
   },
   "source": [
    "### Лог-правдоподобие для независимых наблюдений вогнуто"
   ]
  },
  {
   "cell_type": "markdown",
   "metadata": {
    "id": "lpBkvDZz0av_"
   },
   "source": [
    "$l(\\eta) = \\ln \\prod \\limits_{i=1}^n p_{\\eta}(\\hat{X}_i) = \\ln h(\\hat{X}_i) + \\eta^T \\sum \\limits_{i=1}^n T(\\hat{X}_i) - n A(\\eta)$\n",
    "\n",
    "$l'_{\\eta} = \\sum \\limits_{i=1}^n T(\\hat{X}_i) - n A'(\\eta)$\n",
    "\n",
    "$l''_{\\eta} = - n A''(\\eta)$"
   ]
  },
  {
   "cell_type": "markdown",
   "metadata": {
    "id": "bBPdiRpT0igG"
   },
   "source": [
    "$A(\\eta) = \\ln \\int h(x) \\exp [\\eta^T T(x)] dx$\n",
    "\n",
    "$A'(\\eta) = \\bigl[ \\ln \\int h(x) \\exp [\\eta^T T(x)] dx \\bigr]'\n",
    "= \\frac{1}{\\int h(x) \\exp [\\eta^T T(x)] dx} \\bigl[ \\int h(x) \\exp [\\eta^T T(x)] dx \\bigr]' =$\n",
    "\n",
    "$= \\exp [- A(\\eta)] \\int h(x) \\exp [\\eta^T T(x)] T(x) dx\n",
    "= \\int T(x) \\cdot h(x) \\exp [\\eta^T T(x) - A(\\eta)] dx =$\n",
    "\n",
    "$= \\int T(x) p(x) dx = \\mathbb{E}T(X)$\n",
    "\n",
    "$A''(\\eta) = [A'(\\eta)]' = [\\int T(x) \\cdot h(x) \\exp [\\eta^T T(x) - A(\\eta)] dx]' = \\int T(x) \\cdot h(x) (\\exp [\\eta^T T(x) - A(\\eta)])' dx = $\n",
    "\n",
    "$ = \\int T(x) T(x)^T h(x) \\exp [\\eta^T T(x) - A(\\eta)]dx -  \\int T(x) \\cdot h(x) \\exp [\\eta^T T(x) - A(\\eta)] dx A'(\\eta) = $\n",
    "\n",
    "$ = \\mathbb{E} [T(x) T(x)^T] -  \\mathbb{E}[T(X)] \\mathbb{E}[T(X)] ^T = Cov [T(X)] \\geq 0$"
   ]
  },
  {
   "cell_type": "markdown",
   "metadata": {
    "id": "4DPEry6b0mYH"
   },
   "source": [
    "$l''_{\\eta} = - n A''(\\eta) \\leq 0$\n",
    "\n",
    "$l(\\eta)$ - вогнутая функция"
   ]
  },
  {
   "cell_type": "markdown",
   "metadata": {
    "id": "SV7-B3pLwJEe"
   },
   "source": [
    "## Модель скользящего среднего"
   ]
  },
  {
   "cell_type": "markdown",
   "metadata": {
    "id": "6Qno-DFsyC55"
   },
   "source": [
    "### Модель"
   ]
  },
  {
   "cell_type": "markdown",
   "metadata": {
    "id": "44sj_JSDyC57"
   },
   "source": [
    "$X_0 = \\epsilon_0$\n",
    "\n",
    "$X_{i} = \\alpha \\cdot \\epsilon_{i-1} + \\epsilon_i $\n",
    "\n",
    "$\\epsilon_i \\overset{iid}{\\sim}  \\mathcal{N}(0, \\sigma^2)$"
   ]
  },
  {
   "cell_type": "markdown",
   "metadata": {
    "id": "xH6K5WhFyC57"
   },
   "source": [
    "### Параметры"
   ]
  },
  {
   "cell_type": "markdown",
   "metadata": {
    "id": "PCURHrxvyC58"
   },
   "source": [
    "$\\theta = (\\alpha, \\sigma^2)$"
   ]
  },
  {
   "cell_type": "markdown",
   "metadata": {
    "id": "dIC0JefEyC58"
   },
   "source": [
    "### Выборка"
   ]
  },
  {
   "cell_type": "markdown",
   "metadata": {
    "id": "iZV8UfmNyC58"
   },
   "source": [
    "$\\{\\hat{X}_i \\}_{i=0}^n$, где $\\hat{X}_i$ - реализация случайной величины $X_i$\n",
    "\n",
    "$\\hat{\\epsilon}_0 = \\hat{X}_0$\n",
    "\n",
    "$\\hat{\\epsilon}_1 = \\hat{X}_1 - \\alpha \\hat{\\epsilon}_0 = \\hat{X}_1 - \\alpha \\hat{X}_0$\n",
    "\n",
    "$\\hat{\\epsilon}_2 = \\hat{X}_2 - \\alpha \\hat{\\epsilon}_1 = \\hat{X}_2 - \\alpha \\hat{X}_1 + \\alpha^2 \\hat{X}_0$\n",
    "\n",
    "$\\hat{\\epsilon}_i = \\hat{X}_i - \\alpha \\hat{\\epsilon}_{i-1} = \\sum \\limits_{j=0}^i (- \\alpha)^{i - j} \\hat{X}_j$\n"
   ]
  },
  {
   "cell_type": "markdown",
   "metadata": {
    "id": "q3iNroN0yC58"
   },
   "source": [
    "### Правдоподобие"
   ]
  },
  {
   "cell_type": "markdown",
   "metadata": {
    "id": "26O-I5hV_aFF"
   },
   "source": [
    "$X_0 = \\epsilon_0 \\sim \\mathcal{N}(0, \\sigma^2)$\n",
    "\n",
    "$\\epsilon_0 = X_0$\n",
    "\n",
    "$X_1 = \\alpha \\cdot \\epsilon_0 + \\epsilon_1 = \\alpha X_0 + \\epsilon_1, \\quad X_1 | X_0 \\sim \\mathcal{N}(\\alpha X_0 , \\sigma^2)$\n",
    "\n",
    "$\\epsilon_1  = X_1 - \\alpha X_0$\n",
    "\n",
    "$X_2 = \\alpha \\cdot \\epsilon_1 + \\epsilon_2 = \\alpha (X_1 - \\alpha X_0) + \\epsilon_2 = \\alpha X_1 - \\alpha^2 X_0 + \\epsilon_2, \\quad X_2 | X_1, X_0 \\sim \\mathcal{N}(\\alpha X_1 - \\alpha^2 X_0, \\sigma^2)$\n",
    "\n",
    "$\\epsilon_{i-1} = \\sum \\limits_{j=0}^{i-1} (- \\alpha)^{i - 1 - j} X_j$\n",
    "\n",
    "$X_i = \\alpha \\cdot \\epsilon_{i-1} + \\epsilon_{i} = \\alpha (\\sum \\limits_{j=0}^{i-1} (- \\alpha)^{i - 1 - j} X_j) + \\epsilon_i = - \\sum \\limits_{j=0}^{i-1} (- \\alpha)^{i - j} X_j + \\epsilon_{i}, \\quad X_i | X_{i-1}, X_{i-2}, ..., X_0 \\sim \\mathcal{N}(-\\sum \\limits_{j=0}^{i-1} (-\\alpha)^{i - j} X_j, \\sigma^2)$\n",
    "\n"
   ]
  },
  {
   "cell_type": "markdown",
   "metadata": {
    "id": "JAGcp9M8yC59"
   },
   "source": [
    "$L(\\theta) = p(\\hat{X}_1, ..., \\hat{X}_n; \\theta) = \\prod \\limits_{i=0}^n p_{\\theta}(\\hat{X}_i | \\hat{X}_{i-1}, \\hat{X}_{i-2}, ..., \\hat{X}_{0}) = \\prod \\limits_{i=0}^n p_{\\mathcal{N}(-\\sum \\limits_{j=0}^{i-1} (-\\alpha)^{i - j} \\hat{X}_j, \\sigma^2)}(\\hat{X}_i) $\n",
    "\n",
    "$L(\\theta) = p_{\\theta}(\\hat{\\epsilon}_1, ..., \\hat{\\epsilon}_n) = \\prod \\limits_{i=1}^n p_{ \\theta}(\\hat{\\epsilon}_i) = \\prod \\limits_{i=0}^n p_{\\mathcal{N}(0, \\sigma^2)}(\\sum \\limits_{j=0}^{i} (- \\alpha)^{i - j} \\hat{X}_j) $\n",
    "\n",
    "$l(\\theta) = - \\frac{n}{2} \\ln (2 \\pi \\sigma^2) - \\sum \\limits_{i=0}^n \\frac{1}{2 \\sigma^2} [\\sum \\limits_{j=0}^i (- \\alpha)^{i - j} \\hat{X_j}]^2 = $\n",
    "\n",
    "$= - \\frac{n}{2} \\ln (2 \\pi \\sigma^2) - \\sum \\limits_{i=0}^n \\frac{1}{2 \\sigma^2}[\\sum \\limits_{j=0}^i \\alpha^{2(i-j)}\\hat{X}_j^2 + \\sum \\limits_{j=1}^i \\sum \\limits_{k=0}^{j-1} (-\\alpha)^{2i - j - k} \\hat{X}_j \\hat{X}_k]$"
   ]
  },
  {
   "cell_type": "markdown",
   "metadata": {
    "id": "uVEm_yZ-yC59"
   },
   "source": [
    "### ММП-оценки"
   ]
  },
  {
   "cell_type": "markdown",
   "metadata": {
    "id": "5dEXRdZEyC59"
   },
   "source": [
    "ММП-оценки могут быть получены с помощью численной оптимизации"
   ]
  }
 ],
 "metadata": {
  "colab": {
   "collapsed_sections": [
    "M_6qJhcKwJEX"
   ],
   "provenance": []
  },
  "kernelspec": {
   "display_name": "Python 3 (ipykernel)",
   "language": "python",
   "name": "python3"
  },
  "language_info": {
   "codemirror_mode": {
    "name": "ipython",
    "version": 3
   },
   "file_extension": ".py",
   "mimetype": "text/x-python",
   "name": "python",
   "nbconvert_exporter": "python",
   "pygments_lexer": "ipython3",
   "version": "3.11.4"
  }
 },
 "nbformat": 4,
 "nbformat_minor": 1
}
